{
  "nbformat": 4,
  "nbformat_minor": 0,
  "metadata": {
    "accelerator": "GPU",
    "colab": {
      "name": "LS_DS_432_TensorFlow_Assignment",
      "provenance": [],
      "collapsed_sections": []
    },
    "kernelspec": {
      "display_name": "Python 3",
      "language": "python",
      "name": "python3"
    },
    "language_info": {
      "codemirror_mode": {
        "name": "ipython",
        "version": 3
      },
      "file_extension": ".py",
      "mimetype": "text/x-python",
      "name": "python",
      "nbconvert_exporter": "python",
      "pygments_lexer": "ipython3",
      "version": "3.8.5"
    }
  },
  "cells": [
    {
      "cell_type": "markdown",
      "metadata": {
        "id": "ObyHCH8HvHSf"
      },
      "source": [
        "\n",
        "# *Data Science Unit 4 Sprint 2 Assignment 1*\n",
        "\n",
        "Use TensorFlow Keras & a sample of the [Quickdraw dataset](https://github.com/googlecreativelab/quickdraw-dataset) to build a sketch classification model. The dataset has been sampled to only 10 classes and 10000 observations per class. \n",
        "\n",
        "### Objective\n",
        "\n",
        "- Build a baseline classification model then run a few experiments with different optimizers and learning rates. \n",
        "- Don't forgot to [**switch to GPU on if you're running your notebook on Colab!**](https://colab.research.google.com/notebooks/gpu.ipynb)"
      ]
    },
    {
      "cell_type": "markdown",
      "metadata": {
        "id": "s-Tc3ovEyQ9b"
      },
      "source": [
        "## Load Your Data"
      ]
    },
    {
      "cell_type": "code",
      "metadata": {
        "id": "CkU0pAYCvU8o"
      },
      "source": [
        "# imports in first cell \n",
        "import seaborn as sns\n",
        "import pandas as pd\n",
        "import numpy as np\n",
        "import tensorflow as tf \n",
        "import matplotlib.pyplot as plt\n",
        "from sklearn.utils import shuffle\n",
        "\n",
        "# use Sequential to build out your model\n",
        "from tensorflow.keras.models import Sequential\n",
        "\n",
        "# Dense layer is used for Fully Connected Forward Feeding networks\n",
        "from tensorflow.keras.layers import Dense"
      ],
      "execution_count": 1,
      "outputs": []
    },
    {
      "cell_type": "code",
      "metadata": {
        "colab": {
          "base_uri": "https://localhost:8080/"
        },
        "id": "nhsHD9q9greV",
        "outputId": "c444b0c2-b04d-4e51-ff76-246457d80d3b"
      },
      "source": [
        "# load in data set\n",
        "data = np.load('quickdraw10.npz')\n",
        "X = data['arr_0']\n",
        "y = data['arr_1']\n",
        "\n",
        "\n",
        "print(X.shape)\n",
        "print(y.shape)"
      ],
      "execution_count": 4,
      "outputs": [
        {
          "output_type": "stream",
          "text": [
            "(100000, 784)\n",
            "(100000,)\n"
          ],
          "name": "stdout"
        }
      ]
    },
    {
      "cell_type": "code",
      "metadata": {
        "colab": {
          "base_uri": "https://localhost:8080/"
        },
        "id": "AW9hp_JmxtYo",
        "outputId": "0a67ec02-ee34-410f-a43a-73916bde3d79"
      },
      "source": [
        "X[0] #these images are already flattened\n",
        "#original image was (28,28)"
      ],
      "execution_count": 5,
      "outputs": [
        {
          "output_type": "execute_result",
          "data": {
            "text/plain": [
              "array([  0,   0,   0,   0,   0,   0,   0,   0,   0,   0,   0,   0,   0,\n",
              "         0,   0,   0,   0,   0,   0,   0,   0,   0,   0,   0,   0,   0,\n",
              "         0,   0,   0,   0,   0,   0,   0,   0,   0,   0,   0,   0,   0,\n",
              "         0,   0,   0,  11,  21,  12,   0,   0,   0,   0,   0,   0,   0,\n",
              "         0,  92,  20,   0,   0,   0,   0,   0,   0,   0,   0,   0,   0,\n",
              "         0,   0,   0,  91, 213, 253, 255, 255, 222,  95,   3,   0,   0,\n",
              "         0,   0,   7, 255, 222,   0,   0,   0,   0,   0,   0,   0,   0,\n",
              "         0,   0,   0,  24, 190, 255, 196, 118, 100, 109, 196, 255, 121,\n",
              "         0,   0,   0,   0,   0, 141,  35,   0,   0,   0,   0,   0,   0,\n",
              "         0,   0,   0,   0,   1, 185, 241,  94,   1,   0,   0,   0,   0,\n",
              "        63,  25,   0,   0,   0,   0,   0,   0,   0,   0,   0,   0,   0,\n",
              "         0,   0,   0,   0,   0,   0,  89, 255, 115, 133, 150,  37,   0,\n",
              "         0,   0,   0,   0,   0,   0,   0,   0,   0,   0,   0,   0,   0,\n",
              "         0,   0,   0,   0,   0,   0,   0,   0, 207, 241, 252, 255, 250,\n",
              "       199,   0,   0,   0,   0,   0,   0,   0,   0,   0,   0,   0,   0,\n",
              "         0,   0,   0,   0,   0,   0,   0,   0,  30, 200, 255, 242, 149,\n",
              "       252, 232, 195,   3,   0,   0,   0,   0,   0,   0,   0,   0,   0,\n",
              "         0,   0,   0,   0,   0,   0,   0,   0,   0,  39, 225, 238, 255,\n",
              "        85,   0, 119, 255,  83,   0,   0,   0,   0,   0,   0,   0,   0,\n",
              "         0,   0,   0,   0,   0,   0,   0,   0,   0,   0,  43, 229, 231,\n",
              "       106, 255,  49,   0,   1, 201, 222,   7,   0,   0,   0,   0,   0,\n",
              "         0,   0,   0,   0,   0,   0,   0,   0,   0,   0,   0,  33, 237,\n",
              "       220,  33,  79, 255,  75,   0,   0,  61, 255,  94,   0,   0,   0,\n",
              "         0,   0,   0,   0,   0,   0,   0,   0,   0,   0,   0,   0,   4,\n",
              "       197, 235,  28,   0,   4, 210, 166,   0,   0,   1, 250, 127,   0,\n",
              "         0,   0,   0,   0,   0,   0,   0,   0,   0,   0,   0,   0,   0,\n",
              "         0, 128, 255,  85,   0,   0,   0,  17,  16,   0,   0,   0, 231,\n",
              "       146,   0,   0,   0,   0,   0,   0,   0,   0,   0,   0,   0,   0,\n",
              "         0,   0,  56, 251, 153,   0,   0,   0,   0,   0,   0,   0,   0,\n",
              "         0, 228, 148,   0,   0,   0,   0,   0,   0,   0,   0,   0,   0,\n",
              "         0,   0,   0,   0, 162, 229,  11,   0,   0,   0,   0,   0,   0,\n",
              "         0,   0,   0, 246, 131,   0,   0,   0,   0,   0,   0,   0,   0,\n",
              "         0,   0,   0,   0,   0,   0, 219, 165,   0,   0,   0,   0,   0,\n",
              "         0,   0,   0,   0,  13, 255, 111,   0,   0,   0,   0,   0,   0,\n",
              "         0,   0,   0,   0,   0,   0,   0,  21, 254, 109,   0,   0,   0,\n",
              "         0,   0,   0,   0,   0,   0,  78, 255,  58,   0,   0,   0,   0,\n",
              "         0,   0,   0,   0,   0,   0,   0,   0,   0,  78, 255,  51,   0,\n",
              "         0,   0,   0,   0,   0,   0,   0,   0, 152, 237,   3,   0,   0,\n",
              "         0,   0,   0,   0,   0,   0,   0,   0,   0,   0,   0, 120, 254,\n",
              "         5,   0,   0,   0,   0,   0,   0,   0,   0,   3, 228, 165,   0,\n",
              "         0,   0,   0,   0,   0,   0,   0,   0,   0,   0,   0,   0,   0,\n",
              "       123, 254,   0,   0,   0,   0,   0,   0,   0,   0,   0,  72, 255,\n",
              "        74,   0,   0,   0,   0,   0,   0,   0,   0,   0,   0,   0,   0,\n",
              "         0,   0, 114, 255,  13,   0,   0,   0,   0,   0,   0,   0,   0,\n",
              "       169, 229,   3,   0,   0,   0,   0,   0,   0,   0,   0,   0,   0,\n",
              "         0,   0,   0,   0,  60, 255,  70,   0,   0,   0,   0,   0,   0,\n",
              "         0,  53, 252, 129,   0,   0,   0,   0,   0,   0,   0,   0,   0,\n",
              "         0,   0,   0,   0,   0,   0,   7, 239, 174,   0,   0,   0,   0,\n",
              "         0,   0,   6, 208, 222,  11,   0,   0,   0,   0,   0,   0,   0,\n",
              "         0,   0,   0,   0,   0,   0,   0,   0,   0, 110, 255, 100,   0,\n",
              "         0,   0,   0,   3, 170, 253,  70,   0,   0,   0,   0,   0,   0,\n",
              "         0,   0,   0,   0,   0,   0,   0,   0,   0,   0,   0,   3, 180,\n",
              "       255, 178,  99,  68,  91, 200, 254, 104,   0,   0,   0,   0,   0,\n",
              "         0,   0,   0,   0,   0,   0,   0,   0,   0,   0,   0,   0,   0,\n",
              "         0,   2, 116, 222, 255, 255, 255, 213,  87,   0,   0,   0,   0,\n",
              "         0,   0,   0,   0,   0,   0,   0,   0,   0,   0,   0,   0,   0,\n",
              "         0,   0,   0,   0,   0,   0,  32,  51,  44,   1,   0,   0,   0,\n",
              "         0,   0,   0,   0,   0,   0,   0,   0,   0,   0,   0,   0,   0,\n",
              "         0,   0,   0,   0,   0,   0,   0,   0,   0,   0,   0,   0,   0,\n",
              "         0,   0,   0,   0,   0,   0,   0,   0,   0,   0,   0,   0,   0,\n",
              "         0,   0,   0,   0], dtype=uint8)"
            ]
          },
          "metadata": {
            "tags": []
          },
          "execution_count": 5
        }
      ]
    },
    {
      "cell_type": "code",
      "metadata": {
        "id": "c8qsDqdqvHDd"
      },
      "source": [
        "class_names = ['apple',\n",
        "             'anvil',\n",
        "             'airplane',\n",
        "             'banana',\n",
        "             'The Eiffel Tower',\n",
        "             'The Mona Lisa',\n",
        "             'The Great Wall of China',\n",
        "             'alarm clock',\n",
        "             'ant',\n",
        "             'asparagus']"
      ],
      "execution_count": 6,
      "outputs": []
    },
    {
      "cell_type": "code",
      "metadata": {
        "colab": {
          "base_uri": "https://localhost:8080/",
          "height": 289
        },
        "id": "Owbm1EbxvA5A",
        "outputId": "87eb8748-245a-4c43-8589-fb3d902326d5"
      },
      "source": [
        "# these are your 10 unique images\n",
        "plt.figure(figsize=(10,5))\n",
        "start = 0\n",
        "\n",
        "for num, name in enumerate(class_names):\n",
        "    plt.subplot(2,5, num+1)\n",
        "    plt.xticks([])\n",
        "    plt.yticks([])\n",
        "    plt.grid(False)\n",
        "    plt.imshow(X[start].reshape(28,28), cmap=plt.cm.binary)\n",
        "    plt.xlabel(name)\n",
        "    start += 10000\n",
        "plt.show()"
      ],
      "execution_count": 10,
      "outputs": [
        {
          "output_type": "display_data",
          "data": {
            "image/png": "[encoded data removed]",
            "text/plain": [
              "<Figure size 720x360 with 10 Axes>"
            ]
          },
          "metadata": {
            "tags": []
          }
        }
      ]
    },
    {
      "cell_type": "markdown",
      "metadata": {
        "id": "Figf8d_RgreW"
      },
      "source": [
        "Say hello to the Quickdraw dataset. \n",
        "\n",
        "You'll be using this dataset a lot this week as an alternative to the mnist which we'll be using in the guided projects. The nice thing about this dataset is that it's simple, which allows us to focus on our model, it's various components, and gradually coming to a better understand of how to build neural networks without worrying about cleaning and preping our image data too much. "
      ]
    },
    {
      "cell_type": "code",
      "metadata": {
        "id": "c97_M1WNvTNY"
      },
      "source": [
        "# always a good idea to shuffle your dataset \n",
        "X, y = shuffle(X, y)"
      ],
      "execution_count": 7,
      "outputs": []
    },
    {
      "cell_type": "code",
      "metadata": {
        "colab": {
          "base_uri": "https://localhost:8080/"
        },
        "id": "86JGBN9dzwa0",
        "outputId": "96bd975c-6991-4025-e06f-0ee0281d796c"
      },
      "source": [
        "#normalize the image data\n",
        "\n",
        "max_value = 255\n",
        "\n",
        "X_scaled = X.astype('float32')/ max_value\n",
        "\n",
        "X[0]"
      ],
      "execution_count": 8,
      "outputs": [
        {
          "output_type": "execute_result",
          "data": {
            "text/plain": [
              "array([  0,   0,   0,   0,   0,   0,   0,   0,   0,   0,   0,   0,   0,\n",
              "         0,   0,   0,   0,   0,   0,   0,   0,   0,   0,   0,   0,   0,\n",
              "         0,   0,   0,   0,   0,   0,   0,   0,   0,   0,   0,   0,   0,\n",
              "         0,   0,  23, 106,  56,   0,   0,   0,   0,   0,   0,   0,   0,\n",
              "         0,   0,   0,   0,   0,   0,   0,   0,   0,   0,   0,   0,   0,\n",
              "         0,   0,   0,  48, 241, 255, 247,  45,   0,   0,   0,   0,   0,\n",
              "         0,   0,   0,   0,   0,   0,   0,   0,   0,   0,   0,   0,   0,\n",
              "         0,   0,   0,   0,   0, 242, 255, 255, 254,  98,   0,   0,   0,\n",
              "         0,   0,   0,   0,   0,   0,   0,   0,   0,   0,   0,   0,   0,\n",
              "         0,   0,   0,   0,   0,   0,   0, 127, 217, 232, 116,  23,   0,\n",
              "         0,   0,   0,   0,   0,   0,   0,   0,   0,   0,   0,   0,   0,\n",
              "         0,   0,   0,   0,   0,   0,   0,   0,   0,   0, 172, 204,   0,\n",
              "         0,   0,   0,   0,   0,   0,   0,   0,   0,   0,   0,   0,   0,\n",
              "         0,   0,   0,   0,   0,   0,   0,   0,   0,   0,   0,   0, 183,\n",
              "       193,   0,   0,   0,   0,   0,   0,   0,   0,   0,   0,   0,   0,\n",
              "         0,   0,   0,   0,   0,   0,   0,   0,   0,   0,   0,   0,   0,\n",
              "         0, 194, 182,   0,   0,   0,   0,   0,   0,   0,   0,   0,   0,\n",
              "         0,   0,   0,   0,   0,   0,   0,   0,   0,   0,   0,   0,   0,\n",
              "         0,   0,   0, 205, 171,   0,   0,   0,   0,   0,   0,   0,   0,\n",
              "         0,   0,   0,   0,   0,   0,   0,   0,   0,   0,   0,   0,   0,\n",
              "         0,   0,   0,   0,   0, 216, 160,   0,   0,   0,   0,   0,   0,\n",
              "         0,   0,   0,   0,   0,   0,   0,   0,   0,   0,   0,   0,   0,\n",
              "         0,   0,   0,   0,   0,   0,   0, 227, 149,   0,   0,   0,   0,\n",
              "         0,   0,   0,   0,   0,   0,   0,   0,   0,   0,   0,   0,   0,\n",
              "         0,   0,   0,   0,   0,   0,   0,   0,   0, 238, 138,   0,   0,\n",
              "         0,   0,   0,   0,   0,   0,   0,   0,   0,   0,   0,   0,   0,\n",
              "         0,   0,   0,   0,   0,   0,   0,   0,   0,   0,   0, 249, 127,\n",
              "         0,   0,   0,   0,   0,   0,   0,   0,   0,   0,   0,   0,   0,\n",
              "         0,   0,   0,   0,   0,   0,   0,   0,   0,   0,   0,   0,   4,\n",
              "       255, 116,   0,   0,   0,   0,   0,   0,   0,   0,   0,   0,   0,\n",
              "         0,   0,   0,   0,   0,   0,   0,   0,   0,   0,   0,   0,   0,\n",
              "         0,  15, 255, 105,   0,   0,   0,   0,   0,   0,   0,   0,   0,\n",
              "         0,   0,   0,   0,   0,   0,   0,   0,   0,   0,   0,   0,   0,\n",
              "         0,   0,   0,  66, 255, 198,   2,   0,   0,   0,   0,   0,   0,\n",
              "         0,   0,   0,   0,   0,   0,   0,   0,   0,   0,   0,   0,   0,\n",
              "         0,   0,   0,   0,   8, 216, 255, 255, 146,   0,   0,   0,   0,\n",
              "         0,   0,   0,   0,   0,   0,   0,   0,   0,   0,   0,   0,   0,\n",
              "         0,   0,   0,   0,   0,   0, 143, 253, 232, 210, 255, 116,   0,\n",
              "         0,   0,   0,   0,   0,   0,   0,   0,   0,   0,   0,   0,   0,\n",
              "         0,   0,   0,   0,   0,   0,   0,  67, 253, 138, 203, 172, 160,\n",
              "       252,  65,   0,   0,   0,   0,   0,   0,   0,   0,   0,   0,   0,\n",
              "         0,   0,   0,   0,   0,   0,   0,   0,  16, 225, 212,   8, 193,\n",
              "       182,   8, 207, 232,  24,   0,   0,   0,   0,   0,   0,   0,   0,\n",
              "         0,   0,   0,   0,   0,   0,   0,   0,   0,   0, 166, 248,  46,\n",
              "         0, 183, 192,   0,  37, 242, 183,   2,   0,   0,   0,   0,   0,\n",
              "         0,   0,   0,   0,   0,   0,   0,   0,   0,   0,   0,  94, 255,\n",
              "       116,   0,   0, 186, 192,   0,   0,  88, 255, 119,   0,   0,   0,\n",
              "         0,   0,   0,   0,   0,   0,   0,   0,   0,   0,   0,   0,  85,\n",
              "       251, 180,   2,   0,   0, 214, 165,   0,   0,   0, 161, 251,  59,\n",
              "         0,   0,   0,   0,   0,   0,   0,   0,   0,   0,   0,   0,   0,\n",
              "        84, 250, 186,   9,   0,   0,   0, 242, 137,   0,   0,   0,  11,\n",
              "       214, 226,  19,   0,   0,   0,   0,   0,   0,   0,   0,   0,   0,\n",
              "         0,  61, 251, 186,   9,   0,   0,   0,   7, 254, 142,   0,   0,\n",
              "         0,   0,  44, 246, 179,   1,   0,   0,   0,   0,   0,   0,   0,\n",
              "         0,   0,   0,  39, 139,   9,   0,   0,   0,   0,   0, 105,  80,\n",
              "         0,   0,   0,   0,   0, 103, 255,  80,   0,   0,   0,   0,   0,\n",
              "         0,   0,   0,   0,   0,   0,   0,   0,   0,   0,   0,   0,   0,\n",
              "         0,   0,   0,   0,   0,   0,   0,   0,  93,  23,   0,   0,   0,\n",
              "         0,   0,   0,   0,   0,   0,   0,   0,   0,   0,   0,   0,   0,\n",
              "         0,   0,   0,   0,   0,   0,   0,   0,   0,   0,   0,   0,   0,\n",
              "         0,   0,   0,   0], dtype=uint8)"
            ]
          },
          "metadata": {
            "tags": []
          },
          "execution_count": 8
        }
      ]
    },
    {
      "cell_type": "code",
      "metadata": {
        "id": "N2-7BN8v0sNK"
      },
      "source": [
        "np.unique(y)\n",
        "\n",
        "num_classes = len(np.unique(y))\n",
        "\n",
        "input_dim = X.shape[1]\n",
        "\n",
        "epochs = 20\n",
        "\n",
        "validation_split = 0.2\n"
      ],
      "execution_count": 9,
      "outputs": []
    },
    {
      "cell_type": "code",
      "metadata": {
        "id": "h0V74th80b8E"
      },
      "source": [
        "#MLP = Multi-Layer Perceptron Model\n",
        "\n",
        "model = Sequential()\n",
        "\n",
        "#Hidden layers\n",
        "\n",
        "model.add(Dense(500, input_dim=784, activation = 'sigmoid'))\n",
        "model.add(Dense(250, activation = 'sigmoid'))\n",
        "model.add(Dense(100, activation = 'sigmoid'))\n",
        "\n",
        "#last layer should have nodes equal to the number of classses the model is trying to predict\n",
        "#for multi-class classification the final layer should always use a 'softmax' activation function\n",
        "\n",
        "model.add(Dense(num_classes, activation = 'softmax'))\n",
        "\n",
        "# for Binary classification, the activation function should be 'sigmoid' for the final layer\n",
        "\n",
        "model.compile(optimizer = 'sgd', loss = 'sparse_categorical_crossentropy', metrics = ['accuracy'])\n",
        "\n",
        "#all of the optimizers are variation of the gradient-descent algorithms\n"
      ],
      "execution_count": 10,
      "outputs": []
    },
    {
      "cell_type": "code",
      "metadata": {
        "colab": {
          "base_uri": "https://localhost:8080/"
        },
        "id": "Ou3srOhL3lCK",
        "outputId": "f2d5e662-3e46-4874-e5e9-d8a584320931"
      },
      "source": [
        "n_layers = len(model.get_config()[\"layers\"])\n",
        "assert n_layers == 5, \"YOu should have 5 layers: input, h1, h2, h3, and output\"\n",
        "\n",
        "n_layers"
      ],
      "execution_count": 11,
      "outputs": [
        {
          "output_type": "execute_result",
          "data": {
            "text/plain": [
              "5"
            ]
          },
          "metadata": {
            "tags": []
          },
          "execution_count": 11
        }
      ]
    },
    {
      "cell_type": "code",
      "metadata": {
        "colab": {
          "base_uri": "https://localhost:8080/"
        },
        "id": "l0p3EDK5358f",
        "outputId": "4110769d-cae6-40a0-d3d4-5f144cc92b6f"
      },
      "source": [
        "model.summary()"
      ],
      "execution_count": 12,
      "outputs": [
        {
          "output_type": "stream",
          "text": [
            "Model: \"sequential\"\n",
            "_________________________________________________________________\n",
            "Layer (type)                 Output Shape              Param #   \n",
            "=================================================================\n",
            "dense (Dense)                (None, 500)               392500    \n",
            "_________________________________________________________________\n",
            "dense_1 (Dense)              (None, 250)               125250    \n",
            "_________________________________________________________________\n",
            "dense_2 (Dense)              (None, 100)               25100     \n",
            "_________________________________________________________________\n",
            "dense_3 (Dense)              (None, 10)                1010      \n",
            "=================================================================\n",
            "Total params: 543,860\n",
            "Trainable params: 543,860\n",
            "Non-trainable params: 0\n",
            "_________________________________________________________________\n"
          ],
          "name": "stdout"
        }
      ]
    },
    {
      "cell_type": "code",
      "metadata": {
        "colab": {
          "base_uri": "https://localhost:8080/"
        },
        "id": "GL-ww2263_yo",
        "outputId": "5d40a44b-c6c9-4608-d24b-b665ce9dd895"
      },
      "source": [
        "#Validation split handles the splitting for us\n",
        "\n",
        "history = model.fit(X_scaled, y, epochs = epochs, validation_split = validation_split)"
      ],
      "execution_count": 39,
      "outputs": [
        {
          "output_type": "stream",
          "text": [
            "Epoch 1/20\n",
            "2500/2500 [==============================] - 6s 2ms/step - loss: 2.2925 - accuracy: 0.1361 - val_loss: 2.2762 - val_accuracy: 0.2380\n",
            "Epoch 2/20\n",
            "2500/2500 [==============================] - 5s 2ms/step - loss: 2.2264 - accuracy: 0.2826 - val_loss: 2.1337 - val_accuracy: 0.3196\n",
            "Epoch 3/20\n",
            "2500/2500 [==============================] - 5s 2ms/step - loss: 1.9163 - accuracy: 0.4227 - val_loss: 1.7087 - val_accuracy: 0.4911\n",
            "Epoch 4/20\n",
            "2500/2500 [==============================] - 6s 2ms/step - loss: 1.5718 - accuracy: 0.5121 - val_loss: 1.4587 - val_accuracy: 0.5690\n",
            "Epoch 5/20\n",
            "2500/2500 [==============================] - 5s 2ms/step - loss: 1.3604 - accuracy: 0.5806 - val_loss: 1.2660 - val_accuracy: 0.6169\n",
            "Epoch 6/20\n",
            "2500/2500 [==============================] - 5s 2ms/step - loss: 1.1935 - accuracy: 0.6302 - val_loss: 1.1290 - val_accuracy: 0.6425\n",
            "Epoch 7/20\n",
            "2500/2500 [==============================] - 6s 2ms/step - loss: 1.0815 - accuracy: 0.6644 - val_loss: 1.0399 - val_accuracy: 0.6824\n",
            "Epoch 8/20\n",
            "2500/2500 [==============================] - 6s 2ms/step - loss: 1.0146 - accuracy: 0.6875 - val_loss: 0.9904 - val_accuracy: 0.7006\n",
            "Epoch 9/20\n",
            "2500/2500 [==============================] - 5s 2ms/step - loss: 0.9749 - accuracy: 0.7025 - val_loss: 0.9593 - val_accuracy: 0.7073\n",
            "Epoch 10/20\n",
            "2500/2500 [==============================] - 6s 2ms/step - loss: 0.9469 - accuracy: 0.7129 - val_loss: 0.9314 - val_accuracy: 0.7186\n",
            "Epoch 11/20\n",
            "2500/2500 [==============================] - 6s 2ms/step - loss: 0.9234 - accuracy: 0.7208 - val_loss: 0.9140 - val_accuracy: 0.7226\n",
            "Epoch 12/20\n",
            "2500/2500 [==============================] - 5s 2ms/step - loss: 0.9035 - accuracy: 0.7268 - val_loss: 0.8909 - val_accuracy: 0.7332\n",
            "Epoch 13/20\n",
            "2500/2500 [==============================] - 5s 2ms/step - loss: 0.8857 - accuracy: 0.7334 - val_loss: 0.8753 - val_accuracy: 0.7363\n",
            "Epoch 14/20\n",
            "2500/2500 [==============================] - 6s 2ms/step - loss: 0.8697 - accuracy: 0.7383 - val_loss: 0.8600 - val_accuracy: 0.7403\n",
            "Epoch 15/20\n",
            "2500/2500 [==============================] - 6s 2ms/step - loss: 0.8547 - accuracy: 0.7425 - val_loss: 0.8457 - val_accuracy: 0.7481\n",
            "Epoch 16/20\n",
            "2500/2500 [==============================] - 5s 2ms/step - loss: 0.8397 - accuracy: 0.7488 - val_loss: 0.8313 - val_accuracy: 0.7530\n",
            "Epoch 17/20\n",
            "2500/2500 [==============================] - 5s 2ms/step - loss: 0.8261 - accuracy: 0.7524 - val_loss: 0.8172 - val_accuracy: 0.7577\n",
            "Epoch 18/20\n",
            "2500/2500 [==============================] - 6s 2ms/step - loss: 0.8119 - accuracy: 0.7577 - val_loss: 0.8048 - val_accuracy: 0.7611\n",
            "Epoch 19/20\n",
            "2500/2500 [==============================] - 6s 2ms/step - loss: 0.7986 - accuracy: 0.7615 - val_loss: 0.7934 - val_accuracy: 0.7661\n",
            "Epoch 20/20\n",
            "2500/2500 [==============================] - 6s 2ms/step - loss: 0.7862 - accuracy: 0.7656 - val_loss: 0.7812 - val_accuracy: 0.7697\n"
          ],
          "name": "stdout"
        }
      ]
    },
    {
      "cell_type": "code",
      "metadata": {
        "colab": {
          "base_uri": "https://localhost:8080/",
          "height": 665
        },
        "id": "SF9by4N98egi",
        "outputId": "fb050b5e-243d-4ed8-d804-43a2cdc1740a"
      },
      "source": [
        "df = pd.DataFrame(history.history)\n",
        "df"
      ],
      "execution_count": 42,
      "outputs": [
        {
          "output_type": "execute_result",
          "data": {
            "text/html": [
              "<div>\n",
              "<style scoped>\n",
              "    .dataframe tbody tr th:only-of-type {\n",
              "        vertical-align: middle;\n",
              "    }\n",
              "\n",
              "    .dataframe tbody tr th {\n",
              "        vertical-align: top;\n",
              "    }\n",
              "\n",
              "    .dataframe thead th {\n",
              "        text-align: right;\n",
              "    }\n",
              "</style>\n",
              "<table border=\"1\" class=\"dataframe\">\n",
              "  <thead>\n",
              "    <tr style=\"text-align: right;\">\n",
              "      <th></th>\n",
              "      <th>loss</th>\n",
              "      <th>accuracy</th>\n",
              "      <th>val_loss</th>\n",
              "      <th>val_accuracy</th>\n",
              "    </tr>\n",
              "  </thead>\n",
              "  <tbody>\n",
              "    <tr>\n",
              "      <th>0</th>\n",
              "      <td>2.292500</td>\n",
              "      <td>0.136088</td>\n",
              "      <td>2.276152</td>\n",
              "      <td>0.23805</td>\n",
              "    </tr>\n",
              "    <tr>\n",
              "      <th>1</th>\n",
              "      <td>2.226430</td>\n",
              "      <td>0.282562</td>\n",
              "      <td>2.133722</td>\n",
              "      <td>0.31955</td>\n",
              "    </tr>\n",
              "    <tr>\n",
              "      <th>2</th>\n",
              "      <td>1.916260</td>\n",
              "      <td>0.422650</td>\n",
              "      <td>1.708722</td>\n",
              "      <td>0.49110</td>\n",
              "    </tr>\n",
              "    <tr>\n",
              "      <th>3</th>\n",
              "      <td>1.571847</td>\n",
              "      <td>0.512062</td>\n",
              "      <td>1.458700</td>\n",
              "      <td>0.56900</td>\n",
              "    </tr>\n",
              "    <tr>\n",
              "      <th>4</th>\n",
              "      <td>1.360428</td>\n",
              "      <td>0.580612</td>\n",
              "      <td>1.266033</td>\n",
              "      <td>0.61690</td>\n",
              "    </tr>\n",
              "    <tr>\n",
              "      <th>5</th>\n",
              "      <td>1.193540</td>\n",
              "      <td>0.630162</td>\n",
              "      <td>1.129021</td>\n",
              "      <td>0.64250</td>\n",
              "    </tr>\n",
              "    <tr>\n",
              "      <th>6</th>\n",
              "      <td>1.081464</td>\n",
              "      <td>0.664412</td>\n",
              "      <td>1.039944</td>\n",
              "      <td>0.68245</td>\n",
              "    </tr>\n",
              "    <tr>\n",
              "      <th>7</th>\n",
              "      <td>1.014558</td>\n",
              "      <td>0.687525</td>\n",
              "      <td>0.990441</td>\n",
              "      <td>0.70060</td>\n",
              "    </tr>\n",
              "    <tr>\n",
              "      <th>8</th>\n",
              "      <td>0.974911</td>\n",
              "      <td>0.702488</td>\n",
              "      <td>0.959300</td>\n",
              "      <td>0.70730</td>\n",
              "    </tr>\n",
              "    <tr>\n",
              "      <th>9</th>\n",
              "      <td>0.946911</td>\n",
              "      <td>0.712862</td>\n",
              "      <td>0.931433</td>\n",
              "      <td>0.71860</td>\n",
              "    </tr>\n",
              "    <tr>\n",
              "      <th>10</th>\n",
              "      <td>0.923398</td>\n",
              "      <td>0.720850</td>\n",
              "      <td>0.913970</td>\n",
              "      <td>0.72265</td>\n",
              "    </tr>\n",
              "    <tr>\n",
              "      <th>11</th>\n",
              "      <td>0.903477</td>\n",
              "      <td>0.726850</td>\n",
              "      <td>0.890924</td>\n",
              "      <td>0.73320</td>\n",
              "    </tr>\n",
              "    <tr>\n",
              "      <th>12</th>\n",
              "      <td>0.885705</td>\n",
              "      <td>0.733362</td>\n",
              "      <td>0.875335</td>\n",
              "      <td>0.73635</td>\n",
              "    </tr>\n",
              "    <tr>\n",
              "      <th>13</th>\n",
              "      <td>0.869715</td>\n",
              "      <td>0.738262</td>\n",
              "      <td>0.860036</td>\n",
              "      <td>0.74030</td>\n",
              "    </tr>\n",
              "    <tr>\n",
              "      <th>14</th>\n",
              "      <td>0.854669</td>\n",
              "      <td>0.742537</td>\n",
              "      <td>0.845670</td>\n",
              "      <td>0.74810</td>\n",
              "    </tr>\n",
              "    <tr>\n",
              "      <th>15</th>\n",
              "      <td>0.839718</td>\n",
              "      <td>0.748812</td>\n",
              "      <td>0.831269</td>\n",
              "      <td>0.75295</td>\n",
              "    </tr>\n",
              "    <tr>\n",
              "      <th>16</th>\n",
              "      <td>0.826111</td>\n",
              "      <td>0.752450</td>\n",
              "      <td>0.817202</td>\n",
              "      <td>0.75770</td>\n",
              "    </tr>\n",
              "    <tr>\n",
              "      <th>17</th>\n",
              "      <td>0.811866</td>\n",
              "      <td>0.757750</td>\n",
              "      <td>0.804765</td>\n",
              "      <td>0.76110</td>\n",
              "    </tr>\n",
              "    <tr>\n",
              "      <th>18</th>\n",
              "      <td>0.798555</td>\n",
              "      <td>0.761513</td>\n",
              "      <td>0.793381</td>\n",
              "      <td>0.76610</td>\n",
              "    </tr>\n",
              "    <tr>\n",
              "      <th>19</th>\n",
              "      <td>0.786229</td>\n",
              "      <td>0.765562</td>\n",
              "      <td>0.781200</td>\n",
              "      <td>0.76970</td>\n",
              "    </tr>\n",
              "  </tbody>\n",
              "</table>\n",
              "</div>"
            ],
            "text/plain": [
              "        loss  accuracy  val_loss  val_accuracy\n",
              "0   2.292500  0.136088  2.276152       0.23805\n",
              "1   2.226430  0.282562  2.133722       0.31955\n",
              "2   1.916260  0.422650  1.708722       0.49110\n",
              "3   1.571847  0.512062  1.458700       0.56900\n",
              "4   1.360428  0.580612  1.266033       0.61690\n",
              "5   1.193540  0.630162  1.129021       0.64250\n",
              "6   1.081464  0.664412  1.039944       0.68245\n",
              "7   1.014558  0.687525  0.990441       0.70060\n",
              "8   0.974911  0.702488  0.959300       0.70730\n",
              "9   0.946911  0.712862  0.931433       0.71860\n",
              "10  0.923398  0.720850  0.913970       0.72265\n",
              "11  0.903477  0.726850  0.890924       0.73320\n",
              "12  0.885705  0.733362  0.875335       0.73635\n",
              "13  0.869715  0.738262  0.860036       0.74030\n",
              "14  0.854669  0.742537  0.845670       0.74810\n",
              "15  0.839718  0.748812  0.831269       0.75295\n",
              "16  0.826111  0.752450  0.817202       0.75770\n",
              "17  0.811866  0.757750  0.804765       0.76110\n",
              "18  0.798555  0.761513  0.793381       0.76610\n",
              "19  0.786229  0.765562  0.781200       0.76970"
            ]
          },
          "metadata": {
            "tags": []
          },
          "execution_count": 42
        }
      ]
    },
    {
      "cell_type": "code",
      "metadata": {
        "id": "h-37i14t8zE0"
      },
      "source": [
        "#increment the row index by 1 to match the epoch numbers\n",
        "n_rows = df.shape[0]\n",
        "df.index = [i for i in range(1, n_rows + 1)]"
      ],
      "execution_count": 43,
      "outputs": []
    },
    {
      "cell_type": "code",
      "metadata": {
        "colab": {
          "base_uri": "https://localhost:8080/",
          "height": 665
        },
        "id": "LrRR2YR59CjV",
        "outputId": "01269ac2-3013-4058-800c-2a2a0882e1b0"
      },
      "source": [
        "df"
      ],
      "execution_count": 44,
      "outputs": [
        {
          "output_type": "execute_result",
          "data": {
            "text/html": [
              "<div>\n",
              "<style scoped>\n",
              "    .dataframe tbody tr th:only-of-type {\n",
              "        vertical-align: middle;\n",
              "    }\n",
              "\n",
              "    .dataframe tbody tr th {\n",
              "        vertical-align: top;\n",
              "    }\n",
              "\n",
              "    .dataframe thead th {\n",
              "        text-align: right;\n",
              "    }\n",
              "</style>\n",
              "<table border=\"1\" class=\"dataframe\">\n",
              "  <thead>\n",
              "    <tr style=\"text-align: right;\">\n",
              "      <th></th>\n",
              "      <th>loss</th>\n",
              "      <th>accuracy</th>\n",
              "      <th>val_loss</th>\n",
              "      <th>val_accuracy</th>\n",
              "    </tr>\n",
              "  </thead>\n",
              "  <tbody>\n",
              "    <tr>\n",
              "      <th>1</th>\n",
              "      <td>2.292500</td>\n",
              "      <td>0.136088</td>\n",
              "      <td>2.276152</td>\n",
              "      <td>0.23805</td>\n",
              "    </tr>\n",
              "    <tr>\n",
              "      <th>2</th>\n",
              "      <td>2.226430</td>\n",
              "      <td>0.282562</td>\n",
              "      <td>2.133722</td>\n",
              "      <td>0.31955</td>\n",
              "    </tr>\n",
              "    <tr>\n",
              "      <th>3</th>\n",
              "      <td>1.916260</td>\n",
              "      <td>0.422650</td>\n",
              "      <td>1.708722</td>\n",
              "      <td>0.49110</td>\n",
              "    </tr>\n",
              "    <tr>\n",
              "      <th>4</th>\n",
              "      <td>1.571847</td>\n",
              "      <td>0.512062</td>\n",
              "      <td>1.458700</td>\n",
              "      <td>0.56900</td>\n",
              "    </tr>\n",
              "    <tr>\n",
              "      <th>5</th>\n",
              "      <td>1.360428</td>\n",
              "      <td>0.580612</td>\n",
              "      <td>1.266033</td>\n",
              "      <td>0.61690</td>\n",
              "    </tr>\n",
              "    <tr>\n",
              "      <th>6</th>\n",
              "      <td>1.193540</td>\n",
              "      <td>0.630162</td>\n",
              "      <td>1.129021</td>\n",
              "      <td>0.64250</td>\n",
              "    </tr>\n",
              "    <tr>\n",
              "      <th>7</th>\n",
              "      <td>1.081464</td>\n",
              "      <td>0.664412</td>\n",
              "      <td>1.039944</td>\n",
              "      <td>0.68245</td>\n",
              "    </tr>\n",
              "    <tr>\n",
              "      <th>8</th>\n",
              "      <td>1.014558</td>\n",
              "      <td>0.687525</td>\n",
              "      <td>0.990441</td>\n",
              "      <td>0.70060</td>\n",
              "    </tr>\n",
              "    <tr>\n",
              "      <th>9</th>\n",
              "      <td>0.974911</td>\n",
              "      <td>0.702488</td>\n",
              "      <td>0.959300</td>\n",
              "      <td>0.70730</td>\n",
              "    </tr>\n",
              "    <tr>\n",
              "      <th>10</th>\n",
              "      <td>0.946911</td>\n",
              "      <td>0.712862</td>\n",
              "      <td>0.931433</td>\n",
              "      <td>0.71860</td>\n",
              "    </tr>\n",
              "    <tr>\n",
              "      <th>11</th>\n",
              "      <td>0.923398</td>\n",
              "      <td>0.720850</td>\n",
              "      <td>0.913970</td>\n",
              "      <td>0.72265</td>\n",
              "    </tr>\n",
              "    <tr>\n",
              "      <th>12</th>\n",
              "      <td>0.903477</td>\n",
              "      <td>0.726850</td>\n",
              "      <td>0.890924</td>\n",
              "      <td>0.73320</td>\n",
              "    </tr>\n",
              "    <tr>\n",
              "      <th>13</th>\n",
              "      <td>0.885705</td>\n",
              "      <td>0.733362</td>\n",
              "      <td>0.875335</td>\n",
              "      <td>0.73635</td>\n",
              "    </tr>\n",
              "    <tr>\n",
              "      <th>14</th>\n",
              "      <td>0.869715</td>\n",
              "      <td>0.738262</td>\n",
              "      <td>0.860036</td>\n",
              "      <td>0.74030</td>\n",
              "    </tr>\n",
              "    <tr>\n",
              "      <th>15</th>\n",
              "      <td>0.854669</td>\n",
              "      <td>0.742537</td>\n",
              "      <td>0.845670</td>\n",
              "      <td>0.74810</td>\n",
              "    </tr>\n",
              "    <tr>\n",
              "      <th>16</th>\n",
              "      <td>0.839718</td>\n",
              "      <td>0.748812</td>\n",
              "      <td>0.831269</td>\n",
              "      <td>0.75295</td>\n",
              "    </tr>\n",
              "    <tr>\n",
              "      <th>17</th>\n",
              "      <td>0.826111</td>\n",
              "      <td>0.752450</td>\n",
              "      <td>0.817202</td>\n",
              "      <td>0.75770</td>\n",
              "    </tr>\n",
              "    <tr>\n",
              "      <th>18</th>\n",
              "      <td>0.811866</td>\n",
              "      <td>0.757750</td>\n",
              "      <td>0.804765</td>\n",
              "      <td>0.76110</td>\n",
              "    </tr>\n",
              "    <tr>\n",
              "      <th>19</th>\n",
              "      <td>0.798555</td>\n",
              "      <td>0.761513</td>\n",
              "      <td>0.793381</td>\n",
              "      <td>0.76610</td>\n",
              "    </tr>\n",
              "    <tr>\n",
              "      <th>20</th>\n",
              "      <td>0.786229</td>\n",
              "      <td>0.765562</td>\n",
              "      <td>0.781200</td>\n",
              "      <td>0.76970</td>\n",
              "    </tr>\n",
              "  </tbody>\n",
              "</table>\n",
              "</div>"
            ],
            "text/plain": [
              "        loss  accuracy  val_loss  val_accuracy\n",
              "1   2.292500  0.136088  2.276152       0.23805\n",
              "2   2.226430  0.282562  2.133722       0.31955\n",
              "3   1.916260  0.422650  1.708722       0.49110\n",
              "4   1.571847  0.512062  1.458700       0.56900\n",
              "5   1.360428  0.580612  1.266033       0.61690\n",
              "6   1.193540  0.630162  1.129021       0.64250\n",
              "7   1.081464  0.664412  1.039944       0.68245\n",
              "8   1.014558  0.687525  0.990441       0.70060\n",
              "9   0.974911  0.702488  0.959300       0.70730\n",
              "10  0.946911  0.712862  0.931433       0.71860\n",
              "11  0.923398  0.720850  0.913970       0.72265\n",
              "12  0.903477  0.726850  0.890924       0.73320\n",
              "13  0.885705  0.733362  0.875335       0.73635\n",
              "14  0.869715  0.738262  0.860036       0.74030\n",
              "15  0.854669  0.742537  0.845670       0.74810\n",
              "16  0.839718  0.748812  0.831269       0.75295\n",
              "17  0.826111  0.752450  0.817202       0.75770\n",
              "18  0.811866  0.757750  0.804765       0.76110\n",
              "19  0.798555  0.761513  0.793381       0.76610\n",
              "20  0.786229  0.765562  0.781200       0.76970"
            ]
          },
          "metadata": {
            "tags": []
          },
          "execution_count": 44
        }
      ]
    },
    {
      "cell_type": "code",
      "metadata": {
        "id": "goFOGsq49N5x",
        "outputId": "1ff1c5e8-4d79-4fb4-a251-989f10c0c32a",
        "colab": {
          "base_uri": "https://localhost:8080/",
          "height": 269
        }
      },
      "source": [
        "sns.lineplot(x=df.index, y='accuracy', label = 'training', data = df)\n",
        "sns.lineplot(x=df.index, y='val_accuracy', label = 'validation', data = df)\n",
        "plt.show()"
      ],
      "execution_count": 48,
      "outputs": [
        {
          "output_type": "display_data",
          "data": {
            "image/png": "[encoded data removed]",
            "text/plain": [
              "<Figure size 432x288 with 1 Axes>"
            ]
          },
          "metadata": {
            "tags": [],
            "needs_background": "light"
          }
        }
      ]
    },
    {
      "cell_type": "code",
      "metadata": {
        "id": "zpA14s8A_tPN",
        "outputId": "8e2baa5b-22df-44f4-f3c4-34f9cb6fcb05",
        "colab": {
          "base_uri": "https://localhost:8080/",
          "height": 265
        }
      },
      "source": [
        "sns.lineplot(x=df.index, y='loss', label = 'training', data = df)\n",
        "sns.lineplot(x=df.index, y='val_loss', label = 'validation', data = df)\n",
        "plt.show()"
      ],
      "execution_count": 49,
      "outputs": [
        {
          "output_type": "display_data",
          "data": {
            "image/png": "[encoded data removed]",
            "text/plain": [
              "<Figure size 432x288 with 1 Axes>"
            ]
          },
          "metadata": {
            "tags": [],
            "needs_background": "light"
          }
        }
      ]
    },
    {
      "cell_type": "code",
      "metadata": {
        "id": "xeK6rss9ADJC"
      },
      "source": [
        "#do it again with Adam!"
      ],
      "execution_count": null,
      "outputs": []
    },
    {
      "cell_type": "markdown",
      "metadata": {
        "id": "OzV417RuBO8-"
      },
      "source": [
        "#Change to \"Relu\" activation function"
      ]
    },
    {
      "cell_type": "code",
      "metadata": {
        "id": "SgVEOyPG-aaI"
      },
      "source": [
        "\n",
        "num_classes = len(np.unique(y))\n",
        "\n",
        "input_dim = X.shape[1]\n",
        "\n",
        "epochs = 20\n",
        "\n",
        "validation_split = 0.2"
      ],
      "execution_count": 15,
      "outputs": []
    },
    {
      "cell_type": "code",
      "metadata": {
        "id": "YDz7knFBBMvx"
      },
      "source": [
        "#MLP = Multi-Layer Perceptron Model\n",
        "\n",
        "model = Sequential()\n",
        "\n",
        "#Hidden layers\n",
        "\n",
        "model.add(Dense(500, input_dim=784, activation = 'relu'))\n",
        "model.add(Dense(250, activation = 'relu'))\n",
        "model.add(Dense(100, activation = 'relu'))\n",
        "\n",
        "#last layer should have nodes equal to the number of classses the model is trying to predict\n",
        "#for multi-class classification the final layer should always use a 'softmax' activation function\n",
        "\n",
        "model.add(Dense(num_classes, activation = 'softmax'))\n",
        "\n",
        "# for Binary classification, the activation function should be 'sigmoid' for the final layer\n",
        "\n",
        "model.compile(optimizer = 'Adam', loss = 'sparse_categorical_crossentropy', metrics = ['accuracy'])\n",
        "\n",
        "#all of the optimizers are variation of the gradient-descent algorithms\n"
      ],
      "execution_count": 16,
      "outputs": []
    },
    {
      "cell_type": "code",
      "metadata": {
        "id": "xCSJAODs-dwR",
        "outputId": "79b16180-ca94-4d02-a3de-987737cfbbfa",
        "colab": {
          "base_uri": "https://localhost:8080/"
        }
      },
      "source": [
        "#Validation split handles the splitting for us\n",
        "\n",
        "adam_relu_history = model.fit(X_scaled, y, epochs = epochs, validation_split = validation_split)"
      ],
      "execution_count": 17,
      "outputs": [
        {
          "output_type": "stream",
          "text": [
            "Epoch 1/20\n",
            "2500/2500 [==============================] - 10s 3ms/step - loss: 0.5902 - accuracy: 0.8194 - val_loss: 0.4809 - val_accuracy: 0.8530\n",
            "Epoch 2/20\n",
            "2500/2500 [==============================] - 6s 2ms/step - loss: 0.4122 - accuracy: 0.8749 - val_loss: 0.4388 - val_accuracy: 0.8673\n",
            "Epoch 3/20\n",
            "2500/2500 [==============================] - 6s 3ms/step - loss: 0.3410 - accuracy: 0.8959 - val_loss: 0.4507 - val_accuracy: 0.8711\n",
            "Epoch 4/20\n",
            "2500/2500 [==============================] - 6s 2ms/step - loss: 0.2888 - accuracy: 0.9111 - val_loss: 0.4341 - val_accuracy: 0.8789\n",
            "Epoch 5/20\n",
            "2500/2500 [==============================] - 6s 2ms/step - loss: 0.2474 - accuracy: 0.9230 - val_loss: 0.4644 - val_accuracy: 0.8738\n",
            "Epoch 6/20\n",
            "2500/2500 [==============================] - 6s 2ms/step - loss: 0.2128 - accuracy: 0.9329 - val_loss: 0.4738 - val_accuracy: 0.8741\n",
            "Epoch 7/20\n",
            "2500/2500 [==============================] - 6s 2ms/step - loss: 0.1854 - accuracy: 0.9421 - val_loss: 0.4955 - val_accuracy: 0.8755\n",
            "Epoch 8/20\n",
            "2500/2500 [==============================] - 6s 3ms/step - loss: 0.1624 - accuracy: 0.9484 - val_loss: 0.5416 - val_accuracy: 0.8766\n",
            "Epoch 9/20\n",
            "2500/2500 [==============================] - 6s 3ms/step - loss: 0.1416 - accuracy: 0.9550 - val_loss: 0.6021 - val_accuracy: 0.8759\n",
            "Epoch 10/20\n",
            "2500/2500 [==============================] - 6s 3ms/step - loss: 0.1288 - accuracy: 0.9595 - val_loss: 0.6167 - val_accuracy: 0.8738\n",
            "Epoch 11/20\n",
            "2500/2500 [==============================] - 6s 2ms/step - loss: 0.1177 - accuracy: 0.9628 - val_loss: 0.6390 - val_accuracy: 0.8783\n",
            "Epoch 12/20\n",
            "2500/2500 [==============================] - 6s 2ms/step - loss: 0.1042 - accuracy: 0.9667 - val_loss: 0.6967 - val_accuracy: 0.8738\n",
            "Epoch 13/20\n",
            "2500/2500 [==============================] - 6s 2ms/step - loss: 0.0988 - accuracy: 0.9686 - val_loss: 0.7254 - val_accuracy: 0.8755\n",
            "Epoch 14/20\n",
            "2500/2500 [==============================] - 6s 3ms/step - loss: 0.0890 - accuracy: 0.9722 - val_loss: 0.7244 - val_accuracy: 0.8759\n",
            "Epoch 15/20\n",
            "2500/2500 [==============================] - 6s 3ms/step - loss: 0.0821 - accuracy: 0.9735 - val_loss: 0.8103 - val_accuracy: 0.8758\n",
            "Epoch 16/20\n",
            "2500/2500 [==============================] - 6s 2ms/step - loss: 0.0793 - accuracy: 0.9753 - val_loss: 0.8522 - val_accuracy: 0.8763\n",
            "Epoch 17/20\n",
            "2500/2500 [==============================] - 6s 3ms/step - loss: 0.0750 - accuracy: 0.9759 - val_loss: 0.8662 - val_accuracy: 0.8734\n",
            "Epoch 18/20\n",
            "2500/2500 [==============================] - 6s 2ms/step - loss: 0.0698 - accuracy: 0.9771 - val_loss: 0.8353 - val_accuracy: 0.8755\n",
            "Epoch 19/20\n",
            "2500/2500 [==============================] - 6s 2ms/step - loss: 0.0676 - accuracy: 0.9791 - val_loss: 0.8800 - val_accuracy: 0.8715\n",
            "Epoch 20/20\n",
            "2500/2500 [==============================] - 6s 3ms/step - loss: 0.0630 - accuracy: 0.9805 - val_loss: 0.9310 - val_accuracy: 0.8763\n"
          ],
          "name": "stdout"
        }
      ]
    },
    {
      "cell_type": "code",
      "metadata": {
        "id": "BwP2HXs4-Uss",
        "outputId": "bcbb292b-6e83-49c0-d047-8c561ae015e9",
        "colab": {
          "base_uri": "https://localhost:8080/",
          "height": 665
        }
      },
      "source": [
        "df = pd.DataFrame(adam_relu_history.history)\n",
        "df"
      ],
      "execution_count": 18,
      "outputs": [
        {
          "output_type": "execute_result",
          "data": {
            "text/html": [
              "<div>\n",
              "<style scoped>\n",
              "    .dataframe tbody tr th:only-of-type {\n",
              "        vertical-align: middle;\n",
              "    }\n",
              "\n",
              "    .dataframe tbody tr th {\n",
              "        vertical-align: top;\n",
              "    }\n",
              "\n",
              "    .dataframe thead th {\n",
              "        text-align: right;\n",
              "    }\n",
              "</style>\n",
              "<table border=\"1\" class=\"dataframe\">\n",
              "  <thead>\n",
              "    <tr style=\"text-align: right;\">\n",
              "      <th></th>\n",
              "      <th>loss</th>\n",
              "      <th>accuracy</th>\n",
              "      <th>val_loss</th>\n",
              "      <th>val_accuracy</th>\n",
              "    </tr>\n",
              "  </thead>\n",
              "  <tbody>\n",
              "    <tr>\n",
              "      <th>0</th>\n",
              "      <td>0.590171</td>\n",
              "      <td>0.819400</td>\n",
              "      <td>0.480949</td>\n",
              "      <td>0.85305</td>\n",
              "    </tr>\n",
              "    <tr>\n",
              "      <th>1</th>\n",
              "      <td>0.412157</td>\n",
              "      <td>0.874900</td>\n",
              "      <td>0.438777</td>\n",
              "      <td>0.86725</td>\n",
              "    </tr>\n",
              "    <tr>\n",
              "      <th>2</th>\n",
              "      <td>0.340978</td>\n",
              "      <td>0.895887</td>\n",
              "      <td>0.450673</td>\n",
              "      <td>0.87105</td>\n",
              "    </tr>\n",
              "    <tr>\n",
              "      <th>3</th>\n",
              "      <td>0.288830</td>\n",
              "      <td>0.911100</td>\n",
              "      <td>0.434101</td>\n",
              "      <td>0.87895</td>\n",
              "    </tr>\n",
              "    <tr>\n",
              "      <th>4</th>\n",
              "      <td>0.247411</td>\n",
              "      <td>0.922962</td>\n",
              "      <td>0.464390</td>\n",
              "      <td>0.87385</td>\n",
              "    </tr>\n",
              "    <tr>\n",
              "      <th>5</th>\n",
              "      <td>0.212811</td>\n",
              "      <td>0.932850</td>\n",
              "      <td>0.473845</td>\n",
              "      <td>0.87410</td>\n",
              "    </tr>\n",
              "    <tr>\n",
              "      <th>6</th>\n",
              "      <td>0.185384</td>\n",
              "      <td>0.942062</td>\n",
              "      <td>0.495505</td>\n",
              "      <td>0.87550</td>\n",
              "    </tr>\n",
              "    <tr>\n",
              "      <th>7</th>\n",
              "      <td>0.162361</td>\n",
              "      <td>0.948425</td>\n",
              "      <td>0.541593</td>\n",
              "      <td>0.87655</td>\n",
              "    </tr>\n",
              "    <tr>\n",
              "      <th>8</th>\n",
              "      <td>0.141641</td>\n",
              "      <td>0.955050</td>\n",
              "      <td>0.602122</td>\n",
              "      <td>0.87585</td>\n",
              "    </tr>\n",
              "    <tr>\n",
              "      <th>9</th>\n",
              "      <td>0.128753</td>\n",
              "      <td>0.959512</td>\n",
              "      <td>0.616714</td>\n",
              "      <td>0.87380</td>\n",
              "    </tr>\n",
              "    <tr>\n",
              "      <th>10</th>\n",
              "      <td>0.117710</td>\n",
              "      <td>0.962812</td>\n",
              "      <td>0.638976</td>\n",
              "      <td>0.87825</td>\n",
              "    </tr>\n",
              "    <tr>\n",
              "      <th>11</th>\n",
              "      <td>0.104240</td>\n",
              "      <td>0.966650</td>\n",
              "      <td>0.696745</td>\n",
              "      <td>0.87385</td>\n",
              "    </tr>\n",
              "    <tr>\n",
              "      <th>12</th>\n",
              "      <td>0.098816</td>\n",
              "      <td>0.968575</td>\n",
              "      <td>0.725413</td>\n",
              "      <td>0.87545</td>\n",
              "    </tr>\n",
              "    <tr>\n",
              "      <th>13</th>\n",
              "      <td>0.089014</td>\n",
              "      <td>0.972250</td>\n",
              "      <td>0.724382</td>\n",
              "      <td>0.87590</td>\n",
              "    </tr>\n",
              "    <tr>\n",
              "      <th>14</th>\n",
              "      <td>0.082125</td>\n",
              "      <td>0.973475</td>\n",
              "      <td>0.810288</td>\n",
              "      <td>0.87575</td>\n",
              "    </tr>\n",
              "    <tr>\n",
              "      <th>15</th>\n",
              "      <td>0.079286</td>\n",
              "      <td>0.975263</td>\n",
              "      <td>0.852178</td>\n",
              "      <td>0.87635</td>\n",
              "    </tr>\n",
              "    <tr>\n",
              "      <th>16</th>\n",
              "      <td>0.074952</td>\n",
              "      <td>0.975913</td>\n",
              "      <td>0.866185</td>\n",
              "      <td>0.87335</td>\n",
              "    </tr>\n",
              "    <tr>\n",
              "      <th>17</th>\n",
              "      <td>0.069775</td>\n",
              "      <td>0.977138</td>\n",
              "      <td>0.835252</td>\n",
              "      <td>0.87555</td>\n",
              "    </tr>\n",
              "    <tr>\n",
              "      <th>18</th>\n",
              "      <td>0.067613</td>\n",
              "      <td>0.979100</td>\n",
              "      <td>0.880050</td>\n",
              "      <td>0.87145</td>\n",
              "    </tr>\n",
              "    <tr>\n",
              "      <th>19</th>\n",
              "      <td>0.062983</td>\n",
              "      <td>0.980525</td>\n",
              "      <td>0.930965</td>\n",
              "      <td>0.87635</td>\n",
              "    </tr>\n",
              "  </tbody>\n",
              "</table>\n",
              "</div>"
            ],
            "text/plain": [
              "        loss  accuracy  val_loss  val_accuracy\n",
              "0   0.590171  0.819400  0.480949       0.85305\n",
              "1   0.412157  0.874900  0.438777       0.86725\n",
              "2   0.340978  0.895887  0.450673       0.87105\n",
              "3   0.288830  0.911100  0.434101       0.87895\n",
              "4   0.247411  0.922962  0.464390       0.87385\n",
              "5   0.212811  0.932850  0.473845       0.87410\n",
              "6   0.185384  0.942062  0.495505       0.87550\n",
              "7   0.162361  0.948425  0.541593       0.87655\n",
              "8   0.141641  0.955050  0.602122       0.87585\n",
              "9   0.128753  0.959512  0.616714       0.87380\n",
              "10  0.117710  0.962812  0.638976       0.87825\n",
              "11  0.104240  0.966650  0.696745       0.87385\n",
              "12  0.098816  0.968575  0.725413       0.87545\n",
              "13  0.089014  0.972250  0.724382       0.87590\n",
              "14  0.082125  0.973475  0.810288       0.87575\n",
              "15  0.079286  0.975263  0.852178       0.87635\n",
              "16  0.074952  0.975913  0.866185       0.87335\n",
              "17  0.069775  0.977138  0.835252       0.87555\n",
              "18  0.067613  0.979100  0.880050       0.87145\n",
              "19  0.062983  0.980525  0.930965       0.87635"
            ]
          },
          "metadata": {
            "tags": []
          },
          "execution_count": 18
        }
      ]
    },
    {
      "cell_type": "code",
      "metadata": {
        "id": "wHN--XfI_VNJ",
        "outputId": "4fec4019-b8b6-4f36-eed3-7334cfc68a89",
        "colab": {
          "base_uri": "https://localhost:8080/",
          "height": 265
        }
      },
      "source": [
        "sns.lineplot(x=df.index, y='accuracy', label = 'training', data = df)\n",
        "sns.lineplot(x=df.index, y='val_accuracy', label = 'validation', data = df)\n",
        "plt.show()"
      ],
      "execution_count": 19,
      "outputs": [
        {
          "output_type": "display_data",
          "data": {
            "image/png": "[encoded data removed]",
            "text/plain": [
              "<Figure size 432x288 with 1 Axes>"
            ]
          },
          "metadata": {
            "tags": [],
            "needs_background": "light"
          }
        }
      ]
    },
    {
      "cell_type": "markdown",
      "metadata": {
        "id": "jb70CbLVyK65"
      },
      "source": [
        "-----\n",
        "\n",
        "## Build Your Baseline Model\n",
        "\n",
        "Make sure that you\n",
        "\n",
        "- **Determine** the dimensionality of your input data by investigating **X**\n",
        "- **Normalize** your input data to values between 0 and 1 \n",
        "- **Determine** the number of neurons in your output layer by investigating **Y**\n",
        "- **Select** `sparse_categorical_crossentropy` as your loss function.\n",
        "- **Select** `sgd` as your optimizer.\n",
        "- **Add** 3 hidden layers to your model with the following number of nodes\n",
        "    - h1 has 500 nodes\n",
        "    - h2 has 250 nodes\n",
        "    - h3 has 100 nodes\n",
        "    \n",
        "- **Set** epochs to 20 \n",
        "- **Use** the `validation_split` command to automatically create a training / validation dataset from within the model, so you don't have to do it yourself.\n",
        "    -  Specify a percentage such as .2 in your fit statement.\n",
        " \n",
        " \n",
        "Not sure what the various parameters are for or what what values to assign to them?\n",
        "\n",
        "- Reference the guided project notebook for Sprint 2 Module 1\n",
        "- Reference the [**Keras documentation**](https://keras.io/api/)\n",
        "- Google other examples\n",
        "- Discuss your results with classmates "
      ]
    },
    {
      "cell_type": "code",
      "metadata": {
        "deletable": false,
        "nbgrader": {
          "cell_type": "code",
          "checksum": "ef20dd34df6998e0a50e394d59d58659",
          "grade": false,
          "grade_id": "cell-907b9348d7a2ebb3",
          "locked": false,
          "schema_version": 3,
          "solution": true,
          "task": false
        },
        "id": "EcXl4DBTgreY"
      },
      "source": [
        "# get dim of image row vectors and save to imput_dim\n",
        "\n",
        "# get number of unique labels and save to n_output_nodels\n",
        "\n",
        "# normalize image data to values between 0 and 1 (by dividing by max pixel value)\n",
        "\n",
        "\n",
        "# YOUR CODE HERE\n",
        "raise NotImplementedError()"
      ],
      "execution_count": null,
      "outputs": []
    },
    {
      "cell_type": "code",
      "metadata": {
        "id": "uarO2IjHgreY"
      },
      "source": [
        "# a check on your data prep \n",
        "assert  X_scaled.max(), \"Max pixel value should be 1.0, make sure you normalize your data\""
      ],
      "execution_count": null,
      "outputs": []
    },
    {
      "cell_type": "code",
      "metadata": {
        "deletable": false,
        "id": "zHWblzsMyNkU",
        "nbgrader": {
          "cell_type": "code",
          "checksum": "f0ba174cb72f491f73c3aa7df8ae7ac4",
          "grade": false,
          "grade_id": "cell-b7c96fc46d86725f",
          "locked": false,
          "schema_version": 3,
          "solution": true,
          "task": false
        }
      },
      "source": [
        "# instantiate a sequential object and call it model, then add layers to your model\n",
        "\n",
        "# add a compile layer but don't fit your model yet \n",
        "\n",
        "# YOUR CODE HERE\n",
        "raise NotImplementedError()"
      ],
      "execution_count": null,
      "outputs": []
    },
    {
      "cell_type": "code",
      "metadata": {
        "id": "GLEbDYEogreZ"
      },
      "source": [
        "# a check on your model architecture \n",
        "n_layers = len(model.get_config()[\"layers\"])\n",
        "assert n_layers == 5, \"You should have 5 layers: input, h1, h2, h3, and output\""
      ],
      "execution_count": null,
      "outputs": []
    },
    {
      "cell_type": "code",
      "metadata": {
        "id": "JPUtgTyngreZ"
      },
      "source": [
        "# check out your model summary \n",
        "model.summary()"
      ],
      "execution_count": null,
      "outputs": []
    },
    {
      "cell_type": "code",
      "metadata": {
        "id": "N6pHuiuvgreZ"
      },
      "source": [
        "# fit your model and save training resuts to history \n",
        "history = model.fit(X_scaled, y, \n",
        "                    epochs=epochs, \n",
        "                    # test set will be generated within the model\n",
        "                    validation_split=0.2\n",
        "                   )"
      ],
      "execution_count": null,
      "outputs": []
    },
    {
      "cell_type": "markdown",
      "metadata": {
        "id": "b0QJURWh-9uv"
      },
      "source": [
        "----\n",
        "### Visualize the results\n",
        "\n",
        "- Move results in `history` in a dataframe \n",
        "- Use [**Seaborn**](https://seaborn.pydata.org/generated/seaborn.lineplot.html) to create lineplots for both loss and accuracy by epoch. \n",
        "- Analyze the results and write a couple of obsverations. \n",
        "\n",
        "At what point should we have stopped training the model and why? "
      ]
    },
    {
      "cell_type": "code",
      "metadata": {
        "deletable": false,
        "id": "ijAlzfYKAFaY",
        "nbgrader": {
          "cell_type": "code",
          "checksum": "6ef8cde40701c2ef57cf853b19455125",
          "grade": false,
          "grade_id": "cell-16e647cfc3291a01",
          "locked": false,
          "schema_version": 3,
          "solution": true,
          "task": false
        }
      },
      "source": [
        "# YOUR CODE HERE\n",
        "raise NotImplementedError()"
      ],
      "execution_count": null,
      "outputs": []
    },
    {
      "cell_type": "code",
      "metadata": {
        "id": "7kMDayR2grea"
      },
      "source": [
        "# a check on our model training\n",
        "assert df.shape[0] == 20, \"df should have the training results from 20 epochs\""
      ],
      "execution_count": null,
      "outputs": []
    },
    {
      "cell_type": "code",
      "metadata": {
        "deletable": false,
        "nbgrader": {
          "cell_type": "code",
          "checksum": "424d241660318a72ecda935be10485d7",
          "grade": false,
          "grade_id": "cell-96dba18873c4cffc",
          "locked": false,
          "schema_version": 3,
          "solution": true,
          "task": false
        },
        "id": "VtRzjhD4grea"
      },
      "source": [
        "# use the plotting method in your dataframe to plot the modeling results \n",
        "\n",
        "# YOUR CODE HERE\n",
        "raise NotImplementedError()"
      ],
      "execution_count": null,
      "outputs": []
    },
    {
      "cell_type": "markdown",
      "metadata": {
        "id": "KFF3maxwgrea"
      },
      "source": [
        "### Observations \n",
        "\n",
        "Based on the plot of the training and validation loss answer the following questions. "
      ]
    },
    {
      "cell_type": "markdown",
      "metadata": {
        "id": "RDsj_Lq-grea"
      },
      "source": [
        "**Was our model able to learn over the course of the 20 epochs? Why or why not?**"
      ]
    },
    {
      "cell_type": "markdown",
      "metadata": {
        "deletable": false,
        "nbgrader": {
          "cell_type": "markdown",
          "checksum": "b7713eb32ad3a910a58dfdb9494a9db3",
          "grade": true,
          "grade_id": "cell-820990a8232a858a",
          "locked": false,
          "points": 0,
          "schema_version": 3,
          "solution": true,
          "task": false
        },
        "id": "-jrMWQ5ygreb"
      },
      "source": [
        "YOUR ANSWER HERE"
      ]
    },
    {
      "cell_type": "markdown",
      "metadata": {
        "id": "_luSNjGzgreb"
      },
      "source": [
        "**Is our model overfitting? Why or why not?**"
      ]
    },
    {
      "cell_type": "markdown",
      "metadata": {
        "deletable": false,
        "nbgrader": {
          "cell_type": "markdown",
          "checksum": "1d30c64465cd35081d70578c20ecf96d",
          "grade": true,
          "grade_id": "cell-33868e7ef6e401b5",
          "locked": false,
          "points": 0,
          "schema_version": 3,
          "solution": true,
          "task": false
        },
        "id": "KxA4yY3sgreb"
      },
      "source": [
        "YOUR ANSWER HERE"
      ]
    },
    {
      "cell_type": "markdown",
      "metadata": {
        "id": "BfQNDyJxgreb"
      },
      "source": [
        "**Could the model score benefit from additional epochs? Why or why not?**"
      ]
    },
    {
      "cell_type": "markdown",
      "metadata": {
        "deletable": false,
        "nbgrader": {
          "cell_type": "markdown",
          "checksum": "0fc2208e2c78461578fc7a05224066b8",
          "grade": true,
          "grade_id": "cell-5c883f0a3161e469",
          "locked": false,
          "points": 0,
          "schema_version": 3,
          "solution": true,
          "task": false
        },
        "id": "2ThNltL6greb"
      },
      "source": [
        "YOUR ANSWER HERE"
      ]
    },
    {
      "cell_type": "markdown",
      "metadata": {
        "id": "MAhBrcE4yOZe"
      },
      "source": [
        "-----\n",
        "## Change Optimizers\n",
        "\n",
        "Let's compare model performance between difference optimizers. \n",
        "- Build a new model, identical as the last one but using `adam` for the optimizer. \n",
        "- Visualize the training results just as we did for the last model. \n",
        "- Save modeling results to adam_history so we don't erase the results from the previous model run"
      ]
    },
    {
      "cell_type": "code",
      "metadata": {
        "deletable": false,
        "id": "jIW_spOZ0cxy",
        "nbgrader": {
          "cell_type": "code",
          "checksum": "6d30d8c6f4521861a77c9ef04dbde904",
          "grade": false,
          "grade_id": "cell-56663c8a5e75b71f",
          "locked": false,
          "schema_version": 3,
          "solution": true,
          "task": false
        }
      },
      "source": [
        "# train same model as above but use sgd if you used adam previously ( or use adam if you used sgd previously)\n",
        "\n",
        "# YOUR CODE HERE\n",
        "raise NotImplementedError()"
      ],
      "execution_count": null,
      "outputs": []
    },
    {
      "cell_type": "code",
      "metadata": {
        "id": "cxdRLvxTgrec"
      },
      "source": [
        "# a check that we're using the correct optimizer in this model\n",
        "opt_name = model.optimizer.get_config()[\"name\"]\n",
        "assert opt_name == \"Adam\", \"you need to use adam for the optimizer in this model.\""
      ],
      "execution_count": null,
      "outputs": []
    },
    {
      "cell_type": "code",
      "metadata": {
        "deletable": false,
        "nbgrader": {
          "cell_type": "code",
          "checksum": "1a4c01aa7dbcc832d75b05bffaeaacc8",
          "grade": false,
          "grade_id": "cell-20118d1646215346",
          "locked": false,
          "schema_version": 3,
          "solution": true,
          "task": false
        },
        "id": "AU-kHuHfgrec"
      },
      "source": [
        "# YOUR CODE HERE\n",
        "raise NotImplementedError()"
      ],
      "execution_count": null,
      "outputs": []
    },
    {
      "cell_type": "markdown",
      "metadata": {
        "id": "EW1b9k6Ggrec"
      },
      "source": [
        "### Observations \n",
        "\n",
        "This plot should look very different from the previous plot. Based on the plot of the training and validation loss answer the following questions. "
      ]
    },
    {
      "cell_type": "markdown",
      "metadata": {
        "id": "SOQc_VHrgrec"
      },
      "source": [
        "**Is our model overfitting? Why or why not?**"
      ]
    },
    {
      "cell_type": "markdown",
      "metadata": {
        "deletable": false,
        "nbgrader": {
          "cell_type": "markdown",
          "checksum": "fa4141497af675d227aa510feb8db732",
          "grade": true,
          "grade_id": "cell-7e524ccac970c33e",
          "locked": false,
          "points": 0,
          "schema_version": 3,
          "solution": true,
          "task": false
        },
        "id": "hlBwwlREgrec"
      },
      "source": [
        "YOUR ANSWER HERE"
      ]
    },
    {
      "cell_type": "markdown",
      "metadata": {
        "id": "w0YNw0Fbgrec"
      },
      "source": [
        "**Could our model's performance improve by training on more than 20 epochs? Why or why not?**"
      ]
    },
    {
      "cell_type": "markdown",
      "metadata": {
        "deletable": false,
        "nbgrader": {
          "cell_type": "markdown",
          "checksum": "ae03b8b897eb5d052590574ab3bba839",
          "grade": true,
          "grade_id": "cell-456c40e885652955",
          "locked": false,
          "points": 0,
          "schema_version": 3,
          "solution": true,
          "task": false
        },
        "id": "_yjPIyBTgred"
      },
      "source": [
        "YOUR ANSWER HERE"
      ]
    },
    {
      "cell_type": "markdown",
      "metadata": {
        "id": "2cgGkcchgred"
      },
      "source": [
        "**Assuming that you want to stick to this model architecture, what can you do to avoid overfitting?**"
      ]
    },
    {
      "cell_type": "markdown",
      "metadata": {
        "deletable": false,
        "nbgrader": {
          "cell_type": "markdown",
          "checksum": "9f5a9393314231d3ce253363c1df1223",
          "grade": true,
          "grade_id": "cell-74d7def19c66702b",
          "locked": false,
          "points": 0,
          "schema_version": 3,
          "solution": true,
          "task": false
        },
        "id": "-UXmq4fqgred"
      },
      "source": [
        "YOUR ANSWER HERE"
      ]
    },
    {
      "cell_type": "markdown",
      "metadata": {
        "id": "9hNDZdtPgred"
      },
      "source": [
        "------\n",
        "# Conclusion \n",
        "\n",
        "What you have observed by comparing the two models that are identitical, except for the optimizer, is that the choice of the optimizer can have a very big influence in the training outcome of ML models in general and in a neural networks in particuar. \n",
        "\n",
        "You might not actually know \n",
        "\n",
        "- why changing the optimizer from Stocastic Gradient Descent over to Adam made a difference.\n",
        "- how Gradient Desecent works \n",
        "- or that Adam is known as Adaptive Gradient Descent (i.e. is it a different version of ordinary Gradient Descent). \n",
        "\n",
        "But that's ok - tomorrow's lesson will be a deep dive into Gradient Descent. You'll learn the theory of Gradient Descent, we'll code up Gradient Descent from scratch, and we'll talk about how Adam is different from ordinary Gradient Descent. "
      ]
    },
    {
      "cell_type": "markdown",
      "metadata": {
        "id": "swFY_RPEgred"
      },
      "source": [
        "-----\n",
        "# Preparation for Tomorrow \n",
        "\n",
        "In Preparation for tomorrow, you might need to watch a few videos. I say might because you may or may not already be comfortable with multi-variate calculus. \n",
        "\n",
        "### Theory of Calculus \n",
        "The theory of Gradient Descent rest on [**the derivative from Calculus**](https://www.youtube.com/watch?v=WUvTyaaNkzM). If you've never taken a Calculus course before, or are a bit rusty, definitely watch this video in preparation for tomorrow's lesson. The take away here is to conceptually understand the derivative, you won't be asked to actually calculate any derivatives by hand. \n",
        "\n",
        "### The Gradient - a multi-dimensional derivative\n",
        "Once you've watched the previous video, you are now set up to  understand how to conceptualize a derivative in an N-dimensional space (where N is any number ranging from 2, 3, 4, ..., all the way to a very large number of dimensions N ) [**This video visually explains the multi-dimensional derivative called the Gradient visually**](https://www.youtube.com/watch?v=GkB4vW16QHI) - and that's the take away. This point of this video is to help you understand the Gradient visually using 3D surfaces. You should also know that the Gradient is made of up partial derivatives, more on this tomorrow. \n",
        "\n",
        "### Contour Maps \n",
        "It is very common to visual 3D surfaces as 2D contour maps - and we'll be making a lot of use of contour maps to understand Gradient Descent. Watch this video in order to [**understand the relationship between 3D surfaces and 2D contour maps**](https://www.youtube.com/watch?v=acdX4YamDtU)\n",
        "\n",
        "### The Calculus of Backpropagation \n",
        "\n",
        "Unlike standard Sklearn ML models, neural networks use not just Gradient Descent but also something called Backpropagatin in order to learn from the data. [**In order to understand how backpropagation works, you need to understand the Chain Rule in Calculus**](https://www.youtube.com/watch?v=acdX4YamDtU). The take away here is to understand how a partial derivative can be decomposed into a product of multiple derivatives. "
      ]
    },
    {
      "cell_type": "markdown",
      "metadata": {
        "id": "J-7IDZkDgred"
      },
      "source": [
        "------\n",
        "# Stretch Goals\n",
        "\n",
        "### This section is optional!\n",
        "\n",
        "Only after you've completed the above work and watched the recommended videos, are you then encouraged to experiment with building a few more models and analyze their results. \n",
        "\n",
        "Here are some suggestions to help you get started. \n",
        "\n",
        "- Train the same model using the Sigmoid activation fucntion and the Relu activation function and note the difference in their learning outcomes.  [**Keras docs on activation fucntions**](https://keras.io/api/layers/activations/). We'll cover the Relu activation function in Sprint 2 Module 3.\n",
        "- Train the same model using Normalized and non-Normalized data and note the difference in their learning outcomes. \n",
        "\n",
        "\n",
        "The objective here is to give you an oppertunity to get more practice with the Keras API (i.e. building models) and running a couple of experiments to help set you up for future lessons. In order words, we'll be discussing different activation functions and the affect of Normalized data on model training. "
      ]
    },
    {
      "cell_type": "code",
      "metadata": {
        "id": "USzgzi_ygree"
      },
      "source": [
        ""
      ],
      "execution_count": null,
      "outputs": []
    },
    {
      "cell_type": "code",
      "metadata": {
        "id": "_CjSWeyhgree"
      },
      "source": [
        ""
      ],
      "execution_count": null,
      "outputs": []
    }
  ]
}